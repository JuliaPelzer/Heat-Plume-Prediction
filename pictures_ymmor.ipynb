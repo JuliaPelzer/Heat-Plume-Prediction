{
 "cells": [
  {
   "cell_type": "markdown",
   "metadata": {},
   "source": [
    "# Combines models from Julia and Lukas"
   ]
  },
  {
   "cell_type": "code",
   "execution_count": 1,
   "metadata": {},
   "outputs": [
    {
     "name": "stderr",
     "output_type": "stream",
     "text": [
      "/home/pillerls/.local/lib/python3.8/site-packages/tqdm/auto.py:21: TqdmWarning: IProgress not found. Please update jupyter and ipywidgets. See https://ipywidgets.readthedocs.io/en/stable/user_install.html\n",
      "  from .autonotebook import tqdm as notebook_tqdm\n"
     ]
    }
   ],
   "source": [
    "from copy import deepcopy\n",
    "import yaml\n",
    "from pathlib import Path\n",
    "import torch\n",
    "import shutil\n",
    "import matplotlib.pyplot as plt\n",
    "import h5py\n",
    "from networks.losses import PhysicalLossV2, PhysicalLossV1\n",
    "from utils.visualization import prepare_data_to_plot, plot_datafields, DataToVisualize\n",
    "import numpy as np\n",
    "\n",
    "%reload_ext autoreload\n",
    "%autoreload 2"
   ]
  },
  {
   "cell_type": "code",
   "execution_count": 2,
   "metadata": {},
   "outputs": [],
   "source": [
    "dataset_name = \"dataset_medium_k_3e-10_1000dp\"\n",
    "shape = (1280, 64)\n",
    "with open(\"paths.yaml\", \"r\") as paths:\n",
    "    paths = yaml.safe_load(paths)\n",
    "    path = paths[\"default_raw_dir\"] + \"/\" + dataset_name + \"/\"\n",
    "loss = PhysicalLossV2(\"cpu\")\n",
    "\n",
    "settings_pic = {\"format\": \"png\",\n",
    "                \"dpi\": 600,}"
   ]
  },
  {
   "cell_type": "code",
   "execution_count": 5,
   "metadata": {},
   "outputs": [
    {
     "name": "stdout",
     "output_type": "stream",
     "text": [
      "Datapoint: 1\n"
     ]
    }
   ],
   "source": [
    "for i in [1]:\n",
    "    print(\"Datapoint: \" + str(i))\n",
    "    file = h5py.File(path + \"RUN_\" + str(i) + \"/pflotran.h5\", 'r')\n",
    "    dp = file[list(file.keys())[-1]]\n",
    "    temp_pred = torch.tensor(dp['Temperature [C]']).float().reshape(shape)[180:220]\n",
    "    temp = torch.tensor(dp['Temperature [C]']).float().reshape(shape)[180:320]\n",
    "    press = torch.tensor(dp['Liquid Pressure [Pa]']).float().reshape(shape)[180:320]\n",
    "    perm = torch.tensor(dp['Permeability X [m^2]']).float().reshape(shape)[180:320]\n",
    "    \n",
    "    temp_max = temp.max()\n",
    "    temp_min = temp.min()\n",
    "\n",
    "    extent_highs = (np.array([5, 5]) * temp.shape[-2:])\n",
    "\n",
    "    PhysicalLoss = PhysicalLossV1(\"cpu\")\n",
    "    energy_residual_true_orig = PhysicalLoss.get_energy_error(temp.unsqueeze(0), press.unsqueeze(0), perm.unsqueeze(0), 5).squeeze()\n",
    "    cont_residual_true_orig = PhysicalLoss.get_continuity_error(temp.unsqueeze(0), press.unsqueeze(0), perm.unsqueeze(0), 5).squeeze()\n",
    "    \n",
    "\n",
    "    dict_to_plot = {\n",
    "        \"t_predict\": DataToVisualize(temp_pred, \"Temperature in [°C]\", extent_highs, {\"vmax\": 10.6, \"vmin\": temp_min}),\n",
    "        \"t_true\": DataToVisualize(temp, \"Temperature in [°C]\", extent_highs, {\"vmax\": 10.6, \"vmin\": temp_min}),\n",
    "        \"energy_residual_true_orig\": DataToVisualize(energy_residual_true_orig, \"Energy residual      \", extent_highs),\n",
    "        \"cont_residual_true_orig\": DataToVisualize(cont_residual_true_orig, \"Continuity residual      \", extent_highs),\n",
    "    }\n",
    "    plot_datafields(dict_to_plot, str(i) + \"not_steady_state\", settings_pic)\n",
    "    plt.close(\"all\")"
   ]
  },
  {
   "cell_type": "code",
   "execution_count": 3,
   "metadata": {},
   "outputs": [],
   "source": [
    "dataset_name = \"plume_extension_training\"\n",
    "points = range(1, 2)\n",
    "shape = (1280, 64)\n",
    "with open(\"paths.yaml\", \"r\") as paths:\n",
    "    paths = yaml.safe_load(paths)\n",
    "    path = paths[\"default_raw_dir\"] + \"/\" + dataset_name + \"/\"\n",
    "loss = PhysicalLossV2(\"cpu\")\n",
    "\n",
    "settings_pic = {\"format\": \"png\",\n",
    "                \"dpi\": 600,}\n",
    "\n",
    "lower = 150\n",
    "upper = 750"
   ]
  },
  {
   "cell_type": "code",
   "execution_count": 4,
   "metadata": {},
   "outputs": [
    {
     "name": "stdout",
     "output_type": "stream",
     "text": [
      "Datapoint: 1\n",
      "tensor(1.3754e-06)\n"
     ]
    }
   ],
   "source": [
    "for i in points:\n",
    "    print(\"Datapoint: \" + str(i))\n",
    "    file = h5py.File(path + \"RUN_\" + str(i) + \"/pflotran.h5\", 'r')\n",
    "    dp_start = file[list(file.keys())[0]]\n",
    "    temp_start = torch.tensor(dp_start['Temperature [C]']).float().reshape(shape)[lower:upper].unsqueeze(0)\n",
    "    press_start = torch.tensor(dp_start['Liquid Pressure [Pa]']).float().reshape(shape)[lower:upper].unsqueeze(0)\n",
    "    perm_start = torch.tensor(dp_start['Permeability X [m^2]']).float().reshape(shape)[lower:upper].unsqueeze(0)\n",
    "    darcy_x_start, darcy_y_start = loss.get_darcy(temp_start, press_start, perm_start, 5.0)\n",
    "\n",
    "    dp_end = file[list(file.keys())[-1]]\n",
    "    temp_end = torch.tensor(dp_end['Temperature [C]']).float().reshape(shape)[lower:upper].unsqueeze(0)\n",
    "    press_end = torch.tensor(dp_end['Liquid Pressure [Pa]']).float().reshape(shape)[lower:upper].unsqueeze(0)\n",
    "    perm_end = torch.tensor(dp_end['Permeability X [m^2]']).float().reshape(shape)[lower:upper].unsqueeze(0)\n",
    "    darcy_x_end, darcy_y_end = loss.get_darcy(temp_end, press_end, perm_end, 5.0)\n",
    "\n",
    "    temp_max = max(temp_start.max(), temp_end.max())\n",
    "    temp_min = min(temp_start.min(), temp_end.min())\n",
    "\n",
    "    extent_highs = (np.array([5, 5]) * temp_end.shape[-2:])\n",
    "\n",
    "    dict_to_plot = {\n",
    "        \"t_true\": DataToVisualize(temp_end.squeeze(), \"Temperature in [°C]\", extent_highs, {\"vmax\": 10.6, \"vmin\": temp_min}),\n",
    "        \"darcy_y_end\": DataToVisualize(darcy_y_end.squeeze(), \"Flow in x-direction at steady state     \", extent_highs),\n",
    "        \"darcy_x_start\": DataToVisualize(darcy_x_start.squeeze(), \"Flow in y-direction before HP     \", extent_highs),\n",
    "        \"darcy_x_end\": DataToVisualize(darcy_x_end.squeeze(), \"Flow in y-direction at steady state     \", extent_highs),\n",
    "    }\n",
    "    print(darcy_x_end.min())\n",
    "    plot_datafields(dict_to_plot, str(i) + \"darcy_flow\", settings_pic)\n",
    "    plt.close(\"all\")\n",
    "    \n",
    "    # plot darcy x, darcy y, temp"
   ]
  },
  {
   "cell_type": "code",
   "execution_count": 67,
   "metadata": {},
   "outputs": [
    {
     "ename": "ValueError",
     "evalue": "Position accepts only [ 'left' | 'right' ]",
     "output_type": "error",
     "traceback": [
      "\u001b[0;31m---------------------------------------------------------------------------\u001b[0m",
      "\u001b[0;31mValueError\u001b[0m                                Traceback (most recent call last)",
      "Cell \u001b[0;32mIn[67], line 8\u001b[0m\n\u001b[1;32m      5\u001b[0m plt\u001b[38;5;241m.\u001b[39mimshow(x)\n\u001b[1;32m      6\u001b[0m cbar \u001b[38;5;241m=\u001b[39m plt\u001b[38;5;241m.\u001b[39mcolorbar()\n\u001b[0;32m----> 8\u001b[0m \u001b[43mcbar\u001b[49m\u001b[38;5;241;43m.\u001b[39;49m\u001b[43max\u001b[49m\u001b[38;5;241;43m.\u001b[39;49m\u001b[43myaxis\u001b[49m\u001b[38;5;241;43m.\u001b[39;49m\u001b[43mset_offset_position\u001b[49m\u001b[43m(\u001b[49m\u001b[38;5;124;43m'\u001b[39;49m\u001b[38;5;124;43mbelow\u001b[39;49m\u001b[38;5;124;43m'\u001b[39;49m\u001b[43m)\u001b[49m\n\u001b[1;32m     10\u001b[0m \u001b[38;5;66;03m# Adjust the position of the colorbar below the plot\u001b[39;00m\n\u001b[1;32m     13\u001b[0m plt\u001b[38;5;241m.\u001b[39mshow()\n",
      "File \u001b[0;32m/usr/lib/python3/dist-packages/matplotlib/axis.py:2364\u001b[0m, in \u001b[0;36mYAxis.set_offset_position\u001b[0;34m(self, position)\u001b[0m\n\u001b[1;32m   2362\u001b[0m     x \u001b[38;5;241m=\u001b[39m \u001b[38;5;241m1\u001b[39m\n\u001b[1;32m   2363\u001b[0m \u001b[38;5;28;01melse\u001b[39;00m:\n\u001b[0;32m-> 2364\u001b[0m     \u001b[38;5;28;01mraise\u001b[39;00m \u001b[38;5;167;01mValueError\u001b[39;00m(\u001b[38;5;124m\"\u001b[39m\u001b[38;5;124mPosition accepts only [ \u001b[39m\u001b[38;5;124m'\u001b[39m\u001b[38;5;124mleft\u001b[39m\u001b[38;5;124m'\u001b[39m\u001b[38;5;124m | \u001b[39m\u001b[38;5;124m'\u001b[39m\u001b[38;5;124mright\u001b[39m\u001b[38;5;124m'\u001b[39m\u001b[38;5;124m ]\u001b[39m\u001b[38;5;124m\"\u001b[39m)\n\u001b[1;32m   2366\u001b[0m \u001b[38;5;28mself\u001b[39m\u001b[38;5;241m.\u001b[39moffsetText\u001b[38;5;241m.\u001b[39mset_ha(position)\n\u001b[1;32m   2367\u001b[0m \u001b[38;5;28mself\u001b[39m\u001b[38;5;241m.\u001b[39moffsetText\u001b[38;5;241m.\u001b[39mset_position((x, y))\n",
      "\u001b[0;31mValueError\u001b[0m: Position accepts only [ 'left' | 'right' ]"
     ]
    },
    {
     "data": {
      "image/png": "[encoded data removed]",
      "text/plain": [
       "<Figure size 640x480 with 2 Axes>"
      ]
     },
     "metadata": {},
     "output_type": "display_data"
    }
   ],
   "source": [
    "# Create example data with large values\n",
    "x = np.array([[1,2,3,4],[2,3,4,5],[3,4,5,6],[4,5,6,7]]) + 1e20\n",
    "\n",
    "# Plot the data with a colorbar\n",
    "plt.imshow(x)\n",
    "cbar = plt.colorbar()\n",
    "\n",
    "cbar.ax.yaxis.set_offset_position('below')\n",
    "\n",
    "# Adjust the position of the colorbar below the plot\n",
    "\n",
    "\n",
    "plt.show()\n"
   ]
  }
 ],
 "metadata": {
  "kernelspec": {
   "display_name": "Python 3",
   "language": "python",
   "name": "python3"
  },
  "language_info": {
   "codemirror_mode": {
    "name": "ipython",
    "version": 3
   },
   "file_extension": ".py",
   "mimetype": "text/x-python",
   "name": "python",
   "nbconvert_exporter": "python",
   "pygments_lexer": "ipython3",
   "version": "3.8.10"
  }
 },
 "nbformat": 4,
 "nbformat_minor": 2
}
