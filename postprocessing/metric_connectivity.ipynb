{
 "cells": [
  {
   "cell_type": "code",
   "execution_count": 10,
   "metadata": {},
   "outputs": [],
   "source": [
    "import matplotlib.pyplot as plt\n",
    "from pathlib import Path\n",
    "import numpy as np\n",
    "\n",
    "from processing.networks.unetVariants import UNetNoPad2\n",
    "from postprocessing.visu_utils import _aligned_colorbar\n",
    "import postprocessing.cmap_jp\n",
    "from postprocessing.metric_connectivity import calc_connectivity"
   ]
  },
  {
   "cell_type": "code",
   "execution_count": 2,
   "metadata": {},
   "outputs": [],
   "source": [
    "%reload_ext autoreload\n",
    "%autoreload 2\n",
    "%load_ext line_profiler"
   ]
  },
  {
   "cell_type": "code",
   "execution_count": 3,
   "metadata": {},
   "outputs": [],
   "source": [
    "run_id = 2\n",
    "threshold = 10.7\n",
    "args = {\"cmap\" : \"jp_wbRow_neon\",\n",
    "            \"interpolation\" :\"none\",\n",
    "            \"vmin\": 10.6,\n",
    "        }\n",
    "args_01 = {\"cmap\": \"binary\"}"
   ]
  },
  {
   "cell_type": "markdown",
   "metadata": {},
   "source": [
    "# Data prep + Calculation of connectivity"
   ]
  },
  {
   "cell_type": "code",
   "execution_count": null,
   "metadata": {},
   "outputs": [],
   "source": [
    "# Label, naive\n",
    "model_path = Path(\"/home/pelzerja/pelzerja/test_nn/1HP_NN/runs/allin1/paper24 finals/naive_approach_unetnopad\")\n",
    "data_path = Path(\"/scratch/sgs/pelzerja/datasets_prepared/allin1/dataset_giant_100hp_varyK inputs_pki outputs_t\")\n",
    "id_mat_ids = 2\n",
    "model = UNetNoPad2(in_channels=3, out_channels=1, depth=3, init_features=32, kernel_size=5).float()\n",
    "\n",
    "conn_label, conn_naive = calc_connectivity(model_path, data_path, run_id, model, id_mat_ids, threshold)\n",
    "print(\"Label: \",conn_label[\"ratio\"])\n",
    "print(\"Naive: \",np.round(conn_naive[\"ratio\"],4))"
   ]
  },
  {
   "cell_type": "code",
   "execution_count": null,
   "metadata": {},
   "outputs": [],
   "source": [
    "# T_sim(sim)\n",
    "model_path = Path(\"/home/pelzerja/pelzerja/test_nn/1HP_NN/runs/allin1/paper24 finals/BEST_predict_T_add_s_outer\")\n",
    "data_path = Path(\"/scratch/sgs/pelzerja/datasets_prepared/allin1/dataset_giant_100hp_varyK inputs_ixydk+s_outer outputs_t\")\n",
    "id_mat_ids = 0\n",
    "model = UNetNoPad2(in_channels=6, out_channels=1, depth=4, init_features=32, kernel_size=4).float()\n",
    "\n",
    "_, conn_simsim = calc_connectivity(model_path, data_path, run_id, model, id_mat_ids, threshold)\n",
    "print(\"T_sim(sim): \",np.round(conn_simsim[\"ratio\"],4))\n"
   ]
  },
  {
   "cell_type": "code",
   "execution_count": null,
   "metadata": {},
   "outputs": [],
   "source": [
    "# model trained on sim, applied to pred\n",
    "model_path = Path(\"/home/pelzerja/pelzerja/test_nn/1HP_NN/runs/allin1/paper24 finals/BEST_predict_T_add_s_outer\")\n",
    "data_path = Path(\"/scratch/sgs/pelzerja/datasets_prepared/allin1/dataset_giant_100hp_varyK inputs_ixydk+s_outer outputs_t prep_with_BEST_predict_v_v4\")\n",
    "id_mat_ids = 0\n",
    "model = UNetNoPad2(in_channels=6, out_channels=1, depth=4, init_features=32, kernel_size=4).float()\n",
    "_, conn_simpred = calc_connectivity(model_path, data_path, run_id, model, id_mat_ids, threshold)\n",
    "print(\"T_sim(pred): \",np.round(conn_simpred[\"ratio\"],4))"
   ]
  },
  {
   "cell_type": "code",
   "execution_count": null,
   "metadata": {},
   "outputs": [],
   "source": [
    "# model trained on pred, applied to pred\n",
    "model_path = Path(\"/home/pelzerja/pelzerja/test_nn/1HP_NN/runs/allin1/paper24 finals/predict_T_from_s_outer based_on_predict_v\")\n",
    "id_mat_ids = 0\n",
    "data_path = Path(\"/scratch/sgs/pelzerja/datasets_prepared/allin1/dataset_giant_100hp_varyK inputs_ixydk+s_outer outputs_t prep_with_BEST_predict_v_v4\")\n",
    "model = UNetNoPad2(in_channels=6, out_channels=1, depth=4, init_features=32, kernel_size=4).float()\n",
    "_, conn_predpred = calc_connectivity(model_path, data_path, run_id, model, id_mat_ids, threshold)\n",
    "print(\"T_pred(pred): \",np.round(conn_predpred[\"ratio\"],4))"
   ]
  },
  {
   "cell_type": "markdown",
   "metadata": {},
   "source": [
    "# Visualisation"
   ]
  },
  {
   "cell_type": "code",
   "execution_count": null,
   "metadata": {},
   "outputs": [],
   "source": [
    "plt.figure(figsize=(15,25))\n",
    "for id, (name, prop) in enumerate([(\"Label\", conn_label), (\"Naive\", conn_naive), (\"T_sim(sim)\", conn_simsim), (\"T_sim(pred)\", conn_simpred), (\"T_pred(pred)\", conn_predpred)]):\n",
    "    plt.subplot(5,3,id*3+1)\n",
    "    plt.title(name)\n",
    "    plt.imshow(prop[\"field\"].T, **args) #[0:100,2200:2300])\n",
    "    _aligned_colorbar()\n",
    "    plt.subplot(5,3,id*3+2)\n",
    "    plt.title(\"Connected cells\")\n",
    "    plt.imshow(prop[\"connectivity\"].T, **args_01)\n",
    "    plt.subplot(5,3,id*3+3)\n",
    "    plt.title(\"Unconnected cells\")\n",
    "    plt.imshow(prop[\"unconnected_cells\"].T, **args_01)\n",
    "plt.show()"
   ]
  },
  {
   "cell_type": "markdown",
   "metadata": {},
   "source": [
    "# OLD"
   ]
  },
  {
   "cell_type": "markdown",
   "metadata": {},
   "source": [
    "# Flood fill - comparison numpy, torch\n",
    "numpy"
   ]
  },
  {
   "cell_type": "code",
   "execution_count": null,
   "metadata": {},
   "outputs": [],
   "source": [
    "# def in_bounds(curr_pos, size):\n",
    "#     tmp = (curr_pos >= 0) & (curr_pos < size)\n",
    "#     return tmp[0] & tmp[1]\n",
    " \n",
    "# def select_in_bounds(curr_pos, size):\n",
    "#     return curr_pos.T[in_bounds(curr_pos, size)].T\n",
    " \n",
    "# def filter_visited(curr_pos, visited, field):\n",
    "#     return curr_pos.T[(~visited[curr_pos[0],curr_pos[1]] & field[curr_pos[0],curr_pos[1]])].T\n",
    " \n",
    "# def step(active_indices, visited, field):\n",
    "#     size = visited.shape[0]\n",
    "#     visited[active_indices[0],active_indices[1]] = True\n",
    "#     up = active_indices.copy()\n",
    "#     up[1] += 1\n",
    "#     down = active_indices.copy()\n",
    "#     down[1] -= 1\n",
    "#     right = active_indices.copy()\n",
    "#     right[0] += 1\n",
    "#     left = active_indices.copy()\n",
    "#     left[0] -= 1\n",
    "#     up = select_in_bounds(up, size)\n",
    "#     down = select_in_bounds(down, size)\n",
    "#     left = select_in_bounds(left, size)\n",
    "#     right = select_in_bounds(right, size)\n",
    "#     up = filter_visited(up, visited, field)\n",
    "#     visited[up[0],up[1]] = True\n",
    "#     down = filter_visited(down, visited, field)\n",
    "#     visited[down[0],down[1]] = True\n",
    "#     left = filter_visited(left, visited, field)\n",
    "#     visited[left[0],left[1]] = True\n",
    "#     right = filter_visited(right, visited, field)\n",
    "#     visited[right[0],right[1]] = True\n",
    " \n",
    "#     new_indices = np.concatenate((up, down, left, right), axis=1)\n",
    "\n",
    "#     return new_indices\n",
    " \n",
    "# def flood_fill(active_indices, field):\n",
    "#     visited=np.zeros_like(field,dtype=bool)\n",
    "#     i = 0\n",
    "#     while len(active_indices[0]) > 0:\n",
    "#         i += 1\n",
    "#         active_indices = step(active_indices, visited, field)\n",
    "#     return visited\n",
    "\n",
    "# def test_flood_fill():\n",
    "#     np.random.seed(0)\n",
    "#     size = 2560\n",
    "#     n_start = 100\n",
    "#     field_to_fill = np.ones((size, size), dtype=bool)\n",
    "#     active_indices = np.random.randint(0, size - 1, (2, n_start))\n",
    "#     flood_fill(active_indices, field_to_fill)\n",
    "\n",
    "# def connectivity_field_flood(mat_ids_unnormed, mask_output):\n",
    "#     hps = np.where(mat_ids_unnormed == 2)\n",
    "#     hps = np.array(hps)\n",
    "#     connectivity_field  = flood_fill(hps, mask_output[0].cpu().numpy())\n",
    "\n",
    "#     unconnected_cells = connectivity_field ^ np.array(mask_output[0])\n",
    "#     connected_cells = np.sum(np.array(mask_output[0]))\n",
    "#     # print(\"Ratio: \", np.sum(unconnected_cells)/connected_cells, \", unconnected cells: \", np.sum(unconnected_cells), \", connected cells: \", connected_cells)\n",
    "#     return connectivity_field, unconnected_cells, connected_cells\n",
    "\n",
    "# # %lprun -f step connectivity_label, unconn_cells_label, conn_cells_label            = connectivity_field_flood(inputs_naive[2], mask_label)\n",
    "\n",
    "# %timeit connectivity_field_flood(inputs_naive[2], mask_label)\n",
    "# %timeit connectivity_field_flood(inputs_naive[2], mask_output_naive)\n",
    "# %timeit connectivity_field_flood(inputs_sim[0], mask_output_simsim)\n",
    "# %timeit connectivity_field_flood(inputs_pred[0], mask_output_simpred)\n",
    "# %timeit connectivity_field_flood(inputs_pred[0], mask_output_predpred)\n"
   ]
  },
  {
   "cell_type": "code",
   "execution_count": 8,
   "metadata": {},
   "outputs": [],
   "source": [
    "## TORCH\n",
    "\n",
    "# def in_bounds(curr_pos, size):\n",
    "#     tmp = (curr_pos >= 0) & (curr_pos < size)\n",
    "#     return tmp[0] & tmp[1]\n",
    " \n",
    "# def select_in_bounds(curr_pos, size):\n",
    "#     return curr_pos.T[in_bounds(curr_pos, size)].T\n",
    " \n",
    "# def filter_visited(curr_pos, visited, field):\n",
    "#     return curr_pos.T[(~visited[curr_pos[0],curr_pos[1]] & field[curr_pos[0],curr_pos[1]])].T\n",
    " \n",
    "# def step(active_indices, visited, field):\n",
    "#     size = visited.shape[0]\n",
    "#     visited[active_indices[0],active_indices[1]] = True\n",
    "#     up = active_indices.clone()\n",
    "#     up[1] += 1\n",
    "#     down = active_indices.clone()\n",
    "#     down[1] -= 1\n",
    "#     right = active_indices.clone()\n",
    "#     right[0] += 1\n",
    "#     left = active_indices.clone()\n",
    "#     left[0] -= 1\n",
    "#     up = select_in_bounds(up, size)\n",
    "#     down = select_in_bounds(down, size)\n",
    "#     left = select_in_bounds(left, size)\n",
    "#     right = select_in_bounds(right, size)\n",
    "#     up = filter_visited(up, visited, field)\n",
    "#     visited[up[0],up[1]] = True\n",
    "#     down = filter_visited(down, visited, field)\n",
    "#     visited[down[0],down[1]] = True\n",
    "#     left = filter_visited(left, visited, field)\n",
    "#     visited[left[0],left[1]] = True\n",
    "#     right = filter_visited(right, visited, field)\n",
    "#     visited[right[0],right[1]] = True\n",
    " \n",
    "#     new_indices = torch.concat((up, down, left, right), dim=1)\n",
    "\n",
    "#     return new_indices\n",
    " \n",
    "# def flood_fill(active_indices, field):\n",
    "#     visited=torch.zeros_like(field,dtype=bool).to(\"cuda\")\n",
    "#     i = 0\n",
    "#     while len(active_indices[0]) > 0:\n",
    "#         i += 1\n",
    "#         active_indices = step(active_indices, visited, field)\n",
    "#     return visited\n",
    "\n",
    "# def connectivity_field_flood(mat_ids_unnormed, mask_output):\n",
    "#     mask_output = mask_output.to(\"cuda\")\n",
    "#     hps = torch.where(mat_ids_unnormed == 2)\n",
    "#     hps = torch.stack(list(hps), dim=0).to(\"cuda\")\n",
    "#     connectivity_field  = flood_fill(hps, mask_output[0])\n",
    "\n",
    "#     unconnected_cells = connectivity_field ^ mask_output[0]\n",
    "#     connected_cells = torch.sum(mask_output[0])\n",
    "#     # print(\"Ratio: \", np.sum(unconnected_cells)/connected_cells, \", unconnected cells: \", np.sum(unconnected_cells), \", connected cells: \", connected_cells)\n",
    "\n",
    "#     return connectivity_field, unconnected_cells, connected_cells\n",
    "# %lprun -f step connectivity_field_flood(inputs_naive[2], mask_label)\n",
    "# print(\"Ratio: \", np.sum(unconn_cells_label)/conn_cells_label, \", unconnected cells: \", np.sum(unconn_cells_label), \", connected cells: \", conn_cells_label)\n"
   ]
  },
  {
   "cell_type": "markdown",
   "metadata": {},
   "source": [
    "### torch + cpu\n",
    "1.3 s ± 106 ms per loop (mean ± std. dev. of 7 runs, 1 loop each)\n",
    "Ratio:  0.0 , unconnected cells:  0 , connected cells:  2147604\n",
    "1.07 s ± 3.93 ms per loop (mean ± std. dev. of 7 runs, 1 loop each)\n",
    "Ratio:  0.3965575866641409 , unconnected cells:  837371 , connected cells:  2111600\n",
    "1.38 s ± 45.9 ms per loop (mean ± std. dev. of 7 runs, 1 loop each)\n",
    "Ratio:  0.009183051959207258 , unconnected cells:  17052 , connected cells:  1856899\n",
    "1.2 s ± 64.9 ms per loop (mean ± std. dev. of 7 runs, 1 loop each)\n",
    "Ratio:  0.004250811282885087 , unconnected cells:  6970 , connected cells:  1639687\n",
    "1.29 s ± 35.5 ms per loop (mean ± std. dev. of 7 runs, 1 loop each)\n",
    "Ratio:  0.03488861513191664 , unconnected cells:  61173 , connected cells:  1753380\n",
    "\n",
    "### torch + gpu\n",
    "1.56 s ± 2.58 ms per loop (mean ± std. dev. of 7 runs, 1 loop each)\n",
    "Ratio:  0.0 , unconnected cells:  0 , connected cells:  2147604\n",
    "1.7 s ± 1.39 ms per loop (mean ± std. dev. of 7 runs, 1 loop each)\n",
    "Ratio:  0.3965575866641409 , unconnected cells:  837371 , connected cells:  2111600\n",
    "1.9 s ± 8.41 ms per loop (mean ± std. dev. of 7 runs, 1 loop each)\n",
    "Ratio:  0.009183051959207258 , unconnected cells:  17052 , connected cells:  1856899\n",
    "1.31 s ± 1.27 ms per loop (mean ± std. dev. of 7 runs, 1 loop each)\n",
    "Ratio:  0.004250811282885087 , unconnected cells:  6970 , connected cells:  1639687\n",
    "1.28 s ± 1.6 ms per loop (mean ± std. dev. of 7 runs, 1 loop each)\n",
    "Ratio:  0.03488861513191664 , unconnected cells:  61173 , connected cells:  1753380\n",
    "\n",
    "### numpy\n",
    "371 ms ± 2.27 ms per loop (mean ± std. dev. of 7 runs, 1 loop each)\n",
    "Ratio:  0.0 , unconnected cells:  0 , connected cells:  2147604\n",
    "262 ms ± 1.57 ms per loop (mean ± std. dev. of 7 runs, 1 loop each)\n",
    "Ratio:  0.3965575866641409 , unconnected cells:  837371 , connected cells:  2111600\n",
    "345 ms ± 989 µs per loop (mean ± std. dev. of 7 runs, 1 loop each)\n",
    "Ratio:  0.009183051959207258 , unconnected cells:  17052 , connected cells:  1856899\n",
    "291 ms ± 4.36 ms per loop (mean ± std. dev. of 7 runs, 1 loop each)\n",
    "Ratio:  0.004250811282885087 , unconnected cells:  6970 , connected cells:  1639687\n",
    "302 ms ± 10.3 ms per loop (mean ± std. dev. of 7 runs, 1 loop each)\n",
    "Ratio:  0.03488861513191664 , unconnected cells:  61173 , connected cells:  1753380"
   ]
  },
  {
   "cell_type": "code",
   "execution_count": null,
   "metadata": {},
   "outputs": [],
   "source": []
  },
  {
   "cell_type": "markdown",
   "metadata": {},
   "source": [
    "# Data and model loading"
   ]
  },
  {
   "cell_type": "code",
   "execution_count": null,
   "metadata": {},
   "outputs": [],
   "source": [
    "# model_path = Path(\"/home/pelzerja/pelzerja/test_nn/1HP_NN/runs/allin1/paper24 finals/naive_approach_unetnopad\")\n",
    "# data_path = Path(\"/scratch/sgs/pelzerja/datasets_prepared/allin1/dataset_giant_100hp_varyK inputs_pki outputs_t\")\n",
    "\n",
    "# model = UNetNoPad2(in_channels=3, out_channels=1, depth=3, init_features=32, kernel_size=5).float()\n",
    "# model.load(model_path)\n",
    "# data = DataPoint(data_path, idx=2)\n",
    "# inputs_naive, label = data[0]\n",
    "# output_naive = model.infer(inputs_naive.unsqueeze(0))\n",
    "# inputs_naive, label, output_naive = reverse_norm_one_dp(inputs_naive, label, output_naive, data.norm)\n",
    "\n",
    "# model_path_sim = Path(\"/home/pelzerja/pelzerja/test_nn/1HP_NN/runs/allin1/paper24 finals/BEST_predict_T_add_s_outer\")\n",
    "# data_path_sim = Path(\"/scratch/sgs/pelzerja/datasets_prepared/allin1/dataset_giant_100hp_varyK inputs_ixydk+s_outer outputs_t\")\n",
    "\n",
    "# model_sim = UNetNoPad2(in_channels=6, out_channels=1, depth=4, init_features=32, kernel_size=4).float()\n",
    "# model_sim.load(model_path_sim)\n",
    "# data_sim = DataPoint(data_path_sim, idx=2)\n",
    "# inputs_sim, label_sim = data_sim[0]\n",
    "# output_simsim = model_sim.infer(inputs_sim.unsqueeze(0))\n",
    "# inputs_sim, label_sim, output_simsim = reverse_norm_one_dp(inputs_sim, label_sim, output_simsim, data_sim.norm)\n",
    "\n",
    "# model_path_pred = Path(\"/home/pelzerja/pelzerja/test_nn/1HP_NN/runs/allin1/paper24 finals/predict_T_from_s_outer based_on_predict_v\")\n",
    "# data_path_pred = Path(\"/scratch/sgs/pelzerja/datasets_prepared/allin1/dataset_giant_100hp_varyK inputs_ixydk+s_outer outputs_t prep_with_BEST_predict_v_v4\")\n",
    "\n",
    "# model_pred = UNetNoPad2(in_channels=6, out_channels=1, depth=4, init_features=32, kernel_size=4).float()\n",
    "# model_pred.load(model_path_pred)\n",
    "# data_pred = DataPoint(data_path_pred, idx=2)\n",
    "# inputs_pred, label_pred = data_pred[0]\n",
    "# # model trained on sim, applied to pred\n",
    "# output_simpred = model_sim.infer(inputs_pred.unsqueeze(0))\n",
    "# # model trained on pred, applied to pred\n",
    "# output_predpred = model_pred.infer(inputs_pred.unsqueeze(0))\n",
    "# _, _, output_simpred = reverse_norm_one_dp(deepcopy(inputs_pred), deepcopy(label_pred), output_simpred, data_sim.norm)\n",
    "# inputs_prep, label_pred, output_predpred = reverse_norm_one_dp(inputs_pred, label_pred, output_predpred, data_sim.norm)"
   ]
  },
  {
   "cell_type": "markdown",
   "metadata": {},
   "source": [
    "# Data preparation"
   ]
  },
  {
   "cell_type": "code",
   "execution_count": null,
   "metadata": {},
   "outputs": [],
   "source": [
    "# def unify_size(inputs, required_size):\n",
    "#     # expect square\n",
    "#     start = int((len(inputs[0,0]) - required_size)//2)\n",
    "#     inputs = inputs[:,start:start+required_size, start:start+required_size]\n",
    "#     return inputs\n",
    "\n",
    "# required_size = min(len(output_naive[0,0]),  len(output_simsim[0,0]),  len(output_simpred[0,0]),  len(output_predpred[0,0]))\n",
    "# print(required_size)\n",
    "# # inputs_naive = unify_size(inputs_naive, required_size)\n",
    "# inputs_sim = unify_size(inputs_sim, required_size)\n",
    "# inputs_pred = unify_size(inputs_pred, required_size)\n",
    "\n",
    "# # label = unify_size(label, required_size)\n",
    "# # output_naive = unify_size(output_naive, required_size)\n",
    "# output_simsim = unify_size(output_simsim, required_size)\n",
    "# output_simpred = unify_size(output_simpred, required_size)\n",
    "# output_predpred = unify_size(output_predpred, required_size)"
   ]
  },
  {
   "cell_type": "markdown",
   "metadata": {},
   "source": [
    "# Data masking at threshold"
   ]
  },
  {
   "cell_type": "code",
   "execution_count": null,
   "metadata": {},
   "outputs": [],
   "source": [
    "# # label\n",
    "# mask_label = label > threshold\n",
    "# masked_label = label[mask_label]\n",
    "\n",
    "# # naive\n",
    "# mask_output_naive = output_naive > threshold\n",
    "# masked_output_naive = output_naive[mask_output_naive]\n",
    "\n",
    "# # T_sim(sim)\n",
    "# mask_output_simsim = output_simsim > threshold\n",
    "# masked_output_simsim = output_simsim[mask_output_simsim]\n",
    "\n",
    "# # T_sim(pred)\n",
    "# mask_output_simpred = output_simpred > threshold\n",
    "# masked_output_simpred = output_simpred[mask_output_simpred]\n",
    "\n",
    "# # T_pred(pred)\n",
    "# mask_output_predpred = output_predpred > threshold\n",
    "# masked_output_predpred = output_predpred[mask_output_predpred]"
   ]
  },
  {
   "cell_type": "code",
   "execution_count": null,
   "metadata": {},
   "outputs": [],
   "source": [
    "# connectivity_label, unconn_cells_label, conn_cells_label            = connectivity_field_flood(inputs_naive[2], mask_label)\n",
    "# print(\"Ratio: \", np.sum(unconn_cells_label)/conn_cells_label, \", unconnected cells: \", np.sum(unconn_cells_label), \", connected cells: \", conn_cells_label)\n",
    "# connectivity_naive, unconn_cells_naive, conn_cells_naive            = connectivity_field_flood(inputs_naive[2], mask_output_naive)\n",
    "# print(\"Ratio: \", np.sum(unconn_cells_naive)/conn_cells_naive, \", unconnected cells: \", np.sum(unconn_cells_naive), \", connected cells: \", conn_cells_naive)\n",
    "# connectivity_simsim, unconn_cells_simsim, conn_cells_simsim         = connectivity_field_flood(inputs_sim[0], mask_output_simsim)\n",
    "# print(\"Ratio: \", np.sum(unconn_cells_simsim)/conn_cells_simsim, \", unconnected cells: \", np.sum(unconn_cells_simsim), \", connected cells: \", conn_cells_simsim)\n",
    "# connectivity_simpred, unconn_cells_simpred, conn_cells_simpred      = connectivity_field_flood(inputs_pred[0], mask_output_simpred)\n",
    "# print(\"Ratio: \", np.sum(unconn_cells_simpred)/conn_cells_simpred, \", unconnected cells: \", np.sum(unconn_cells_simpred), \", connected cells: \", conn_cells_simpred)\n",
    "# connectivity_predpred, unconn_cells_predpred, conn_cells_predpred   = connectivity_field_flood(inputs_pred[0], mask_output_predpred)\n",
    "# print(\"Ratio: \", np.sum(unconn_cells_predpred)/conn_cells_predpred, \", unconnected cells: \", np.sum(unconn_cells_predpred), \", connected cells: \", conn_cells_predpred)\n"
   ]
  }
 ],
 "metadata": {
  "kernelspec": {
   "display_name": "Python 3",
   "language": "python",
   "name": "python3"
  },
  "language_info": {
   "codemirror_mode": {
    "name": "ipython",
    "version": 3
   },
   "file_extension": ".py",
   "mimetype": "text/x-python",
   "name": "python",
   "nbconvert_exporter": "python",
   "pygments_lexer": "ipython3",
   "version": "3.10.4"
  }
 },
 "nbformat": 4,
 "nbformat_minor": 2
}
